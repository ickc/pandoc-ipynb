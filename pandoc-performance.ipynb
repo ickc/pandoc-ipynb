{
 "cells": [
  {
   "cell_type": "code",
   "execution_count": 1,
   "id": "9b6552f3-090b-4989-b3ca-0762d4cf7fa4",
   "metadata": {},
   "outputs": [],
   "source": [
    "from copy import deepcopy\n",
    "import timeit\n",
    "import json\n",
    "from pathlib import Path\n",
    "from functools import partial\n",
    "\n",
    "from panflute import convert_text\n",
    "import numpy as np\n",
    "import plotly.express as px\n",
    "import pandas as pd\n",
    "import statsmodels.api as sm\n",
    "from map_parallel import map_parallel"
   ]
  },
  {
   "cell_type": "code",
   "execution_count": 2,
   "id": "b3e20209-208e-4b37-a597-1355a7923db4",
   "metadata": {},
   "outputs": [],
   "source": [
    "# pandoc commit 6b962e6b0e729e925c4313427926cc6bfc5d3d1f\n",
    "pandoc_path = Path(\"~/.local/bin/pandoc\").expanduser()\n",
    "# input ipynb\n",
    "path = Path(\"holoview-load-only-manual_filtered.ipynb\").expanduser()"
   ]
  },
  {
   "cell_type": "code",
   "execution_count": 3,
   "id": "66c38ac9-d332-48ab-9673-98190dce5acb",
   "metadata": {},
   "outputs": [
    {
     "name": "stdout",
     "output_type": "stream",
     "text": [
      "pandoc 2.16.2\n",
      "Compiled with pandoc-types 1.22.1, texmath 0.12.3.3, skylighting 0.12.1,\n",
      "citeproc 0.6, ipynb 0.2\n",
      "User data directory: /Users/kolen/.local/share/pandoc\n",
      "Copyright (C) 2006-2021 John MacFarlane. Web:  https://pandoc.org\n",
      "This is free software; see the source for copying conditions. There is no\n",
      "warranty, not even for merchantability or fitness for a particular purpose.\n"
     ]
    }
   ],
   "source": [
    "!$pandoc_path --version"
   ]
  },
  {
   "cell_type": "code",
   "execution_count": 4,
   "id": "00cd4a63-cd90-4be2-b6fc-52cd1df60520",
   "metadata": {},
   "outputs": [],
   "source": [
    "with path.open(\"r\") as f:\n",
    "    data = json.load(f)"
   ]
  },
  {
   "cell_type": "code",
   "execution_count": 5,
   "id": "22b6b4be-b41c-459f-adc7-b5be3e16641a",
   "metadata": {},
   "outputs": [
    {
     "data": {
      "text/plain": [
       "1679380"
      ]
     },
     "execution_count": 5,
     "metadata": {},
     "output_type": "execute_result"
    }
   ],
   "source": [
    "n_original = len(data[\"cells\"][0][\"outputs\"][0][\"data\"][\"application/vnd.holoviews_load.v0+json\"])\n",
    "n_original"
   ]
  },
  {
   "cell_type": "code",
   "execution_count": 6,
   "id": "e6db5c86-446c-4464-89ba-4bb5a5825507",
   "metadata": {},
   "outputs": [],
   "source": [
    "data[\"cells\"][0][\"outputs\"][0][\"data\"][\"application/vnd.holoviews_load.v0+json\"] = '\"'"
   ]
  },
  {
   "cell_type": "code",
   "execution_count": 7,
   "id": "7fb298cd-bd11-4e19-bdc1-2bb0d8a388db",
   "metadata": {},
   "outputs": [],
   "source": [
    "def cook_new_data(data, n):\n",
    "    res = deepcopy(data)\n",
    "    res[\"cells\"][0][\"outputs\"][0][\"data\"][\"application/vnd.holoviews_load.v0+json\"] = '\"' * int(n)\n",
    "    return res"
   ]
  },
  {
   "cell_type": "code",
   "execution_count": 8,
   "id": "c7bedad2-227f-4ebd-8923-2fca0dd3ad00",
   "metadata": {},
   "outputs": [],
   "source": [
    "def timethis(\n",
    "    data,\n",
    "    n,\n",
    "    number=1,\n",
    "    repeat=1,\n",
    "):\n",
    "    return np.mean(\n",
    "        timeit.repeat(\n",
    "            'convert_text(text, input_format=\"ipynb\", output_format=\"native\", pandoc_path=pandoc_path)',\n",
    "            setup='import json; from panflute import convert_text; text = json.dumps(cook_new_data(data, n))',\n",
    "            globals={\"data\": data, \"n\": n, \"cook_new_data\": cook_new_data, \"pandoc_path\": pandoc_path},\n",
    "            number=number,\n",
    "            repeat=repeat,\n",
    "        )\n",
    "    )"
   ]
  },
  {
   "cell_type": "code",
   "execution_count": 9,
   "id": "20ca46a1-c0f8-4b67-9937-157ee3350438",
   "metadata": {},
   "outputs": [],
   "source": [
    "N = 18\n",
    "n = 2**np.arange(1, N)"
   ]
  },
  {
   "cell_type": "code",
   "execution_count": 10,
   "id": "49828800-bb30-4ed4-8f32-7d62ce724923",
   "metadata": {},
   "outputs": [],
   "source": [
    "res = map_parallel(partial(timethis, data), n, mode=\"multithreading\", processes=len(n))"
   ]
  },
  {
   "cell_type": "code",
   "execution_count": 11,
   "id": "1f8e382c-d1e0-4898-87f4-711179da6090",
   "metadata": {},
   "outputs": [],
   "source": [
    "df = pd.DataFrame(\n",
    "    {\n",
    "        \"n\": n,\n",
    "        \"time (s)\": res,\n",
    "    }\n",
    ")"
   ]
  },
  {
   "cell_type": "code",
   "execution_count": 12,
   "id": "637d5e84-fb67-47ba-9bbb-b753c745017f",
   "metadata": {},
   "outputs": [
    {
     "data": {
      "text/html": [
       "<div>\n",
       "<style scoped>\n",
       "    .dataframe tbody tr th:only-of-type {\n",
       "        vertical-align: middle;\n",
       "    }\n",
       "\n",
       "    .dataframe tbody tr th {\n",
       "        vertical-align: top;\n",
       "    }\n",
       "\n",
       "    .dataframe thead th {\n",
       "        text-align: right;\n",
       "    }\n",
       "</style>\n",
       "<table border=\"1\" class=\"dataframe\">\n",
       "  <thead>\n",
       "    <tr style=\"text-align: right;\">\n",
       "      <th></th>\n",
       "      <th>n</th>\n",
       "      <th>time (s)</th>\n",
       "    </tr>\n",
       "  </thead>\n",
       "  <tbody>\n",
       "    <tr>\n",
       "      <th>0</th>\n",
       "      <td>2</td>\n",
       "      <td>0.073833</td>\n",
       "    </tr>\n",
       "    <tr>\n",
       "      <th>1</th>\n",
       "      <td>4</td>\n",
       "      <td>0.099905</td>\n",
       "    </tr>\n",
       "    <tr>\n",
       "      <th>2</th>\n",
       "      <td>8</td>\n",
       "      <td>0.051142</td>\n",
       "    </tr>\n",
       "    <tr>\n",
       "      <th>3</th>\n",
       "      <td>16</td>\n",
       "      <td>0.057677</td>\n",
       "    </tr>\n",
       "    <tr>\n",
       "      <th>4</th>\n",
       "      <td>32</td>\n",
       "      <td>0.087921</td>\n",
       "    </tr>\n",
       "    <tr>\n",
       "      <th>5</th>\n",
       "      <td>64</td>\n",
       "      <td>0.055302</td>\n",
       "    </tr>\n",
       "    <tr>\n",
       "      <th>6</th>\n",
       "      <td>128</td>\n",
       "      <td>0.107645</td>\n",
       "    </tr>\n",
       "    <tr>\n",
       "      <th>7</th>\n",
       "      <td>256</td>\n",
       "      <td>0.055969</td>\n",
       "    </tr>\n",
       "    <tr>\n",
       "      <th>8</th>\n",
       "      <td>512</td>\n",
       "      <td>0.098900</td>\n",
       "    </tr>\n",
       "    <tr>\n",
       "      <th>9</th>\n",
       "      <td>1024</td>\n",
       "      <td>0.102706</td>\n",
       "    </tr>\n",
       "    <tr>\n",
       "      <th>10</th>\n",
       "      <td>2048</td>\n",
       "      <td>0.149745</td>\n",
       "    </tr>\n",
       "    <tr>\n",
       "      <th>11</th>\n",
       "      <td>4096</td>\n",
       "      <td>0.312231</td>\n",
       "    </tr>\n",
       "    <tr>\n",
       "      <th>12</th>\n",
       "      <td>8192</td>\n",
       "      <td>0.989595</td>\n",
       "    </tr>\n",
       "    <tr>\n",
       "      <th>13</th>\n",
       "      <td>16384</td>\n",
       "      <td>3.685738</td>\n",
       "    </tr>\n",
       "    <tr>\n",
       "      <th>14</th>\n",
       "      <td>32768</td>\n",
       "      <td>14.235585</td>\n",
       "    </tr>\n",
       "    <tr>\n",
       "      <th>15</th>\n",
       "      <td>65536</td>\n",
       "      <td>53.312253</td>\n",
       "    </tr>\n",
       "    <tr>\n",
       "      <th>16</th>\n",
       "      <td>131072</td>\n",
       "      <td>197.977269</td>\n",
       "    </tr>\n",
       "  </tbody>\n",
       "</table>\n",
       "</div>"
      ],
      "text/plain": [
       "         n    time (s)\n",
       "0        2    0.073833\n",
       "1        4    0.099905\n",
       "2        8    0.051142\n",
       "3       16    0.057677\n",
       "4       32    0.087921\n",
       "5       64    0.055302\n",
       "6      128    0.107645\n",
       "7      256    0.055969\n",
       "8      512    0.098900\n",
       "9     1024    0.102706\n",
       "10    2048    0.149745\n",
       "11    4096    0.312231\n",
       "12    8192    0.989595\n",
       "13   16384    3.685738\n",
       "14   32768   14.235585\n",
       "15   65536   53.312253\n",
       "16  131072  197.977269"
      ]
     },
     "execution_count": 12,
     "metadata": {},
     "output_type": "execute_result"
    }
   ],
   "source": [
    "df"
   ]
  },
  {
   "cell_type": "raw",
   "id": "a8a459af-d659-40b8-9649-d34c594b353a",
   "metadata": {},
   "source": [
    "df.plot(backend=\"plotly\", x=\"n\", y=\"time (s)\", log_x=True, log_y=True)"
   ]
  },
  {
   "cell_type": "code",
   "execution_count": 13,
   "id": "3b62d25a-7493-415a-bdf1-b24357c7d35a",
   "metadata": {},
   "outputs": [],
   "source": [
    "df_fit = df.iloc[10:]"
   ]
  },
  {
   "cell_type": "markdown",
   "id": "b7cfad45-fc1f-4cf5-8b4d-d152966de446",
   "metadata": {},
   "source": [
    "$$t = A n^x$$\n",
    "\n",
    "$$\\log t = C + x \\log n$$"
   ]
  },
  {
   "cell_type": "code",
   "execution_count": 14,
   "id": "340c38f8-a9ff-49bf-9798-2aa1a0ffab9f",
   "metadata": {},
   "outputs": [
    {
     "name": "stderr",
     "output_type": "stream",
     "text": [
      "/Users/kolen/.mambaforge/envs/all39-defaults/lib/python3.9/site-packages/statsmodels/stats/stattools.py:74: ValueWarning: omni_normtest is not valid with less than 8 observations; 7 samples were given.\n",
      "  warn(\"omni_normtest is not valid with less than 8 observations; %i \"\n"
     ]
    },
    {
     "data": {
      "text/html": [
       "<table class=\"simpletable\">\n",
       "<caption>OLS Regression Results</caption>\n",
       "<tr>\n",
       "  <th>Dep. Variable:</th>        <td>time (s)</td>     <th>  R-squared:         </th> <td>   0.994</td>\n",
       "</tr>\n",
       "<tr>\n",
       "  <th>Model:</th>                   <td>OLS</td>       <th>  Adj. R-squared:    </th> <td>   0.993</td>\n",
       "</tr>\n",
       "<tr>\n",
       "  <th>Method:</th>             <td>Least Squares</td>  <th>  F-statistic:       </th> <td>   881.7</td>\n",
       "</tr>\n",
       "<tr>\n",
       "  <th>Date:</th>             <td>Thu, 09 Dec 2021</td> <th>  Prob (F-statistic):</th> <td>8.12e-07</td>\n",
       "</tr>\n",
       "<tr>\n",
       "  <th>Time:</th>                 <td>18:03:06</td>     <th>  Log-Likelihood:    </th> <td>  1.8560</td>\n",
       "</tr>\n",
       "<tr>\n",
       "  <th>No. Observations:</th>      <td>     7</td>      <th>  AIC:               </th> <td>  0.2879</td>\n",
       "</tr>\n",
       "<tr>\n",
       "  <th>Df Residuals:</th>          <td>     5</td>      <th>  BIC:               </th> <td>  0.1797</td>\n",
       "</tr>\n",
       "<tr>\n",
       "  <th>Df Model:</th>              <td>     1</td>      <th>                     </th>     <td> </td>   \n",
       "</tr>\n",
       "<tr>\n",
       "  <th>Covariance Type:</th>      <td>nonrobust</td>    <th>                     </th>     <td> </td>   \n",
       "</tr>\n",
       "</table>\n",
       "<table class=\"simpletable\">\n",
       "<tr>\n",
       "    <td></td>       <th>coef</th>     <th>std err</th>      <th>t</th>      <th>P>|t|</th>  <th>[0.025</th>    <th>0.975]</th>  \n",
       "</tr>\n",
       "<tr>\n",
       "  <th>const</th> <td>  -15.8036</td> <td>    0.587</td> <td>  -26.924</td> <td> 0.000</td> <td>  -17.312</td> <td>  -14.295</td>\n",
       "</tr>\n",
       "<tr>\n",
       "  <th>n</th>     <td>    1.7780</td> <td>    0.060</td> <td>   29.693</td> <td> 0.000</td> <td>    1.624</td> <td>    1.932</td>\n",
       "</tr>\n",
       "</table>\n",
       "<table class=\"simpletable\">\n",
       "<tr>\n",
       "  <th>Omnibus:</th>       <td>   nan</td> <th>  Durbin-Watson:     </th> <td>   1.198</td>\n",
       "</tr>\n",
       "<tr>\n",
       "  <th>Prob(Omnibus):</th> <td>   nan</td> <th>  Jarque-Bera (JB):  </th> <td>   0.582</td>\n",
       "</tr>\n",
       "<tr>\n",
       "  <th>Skew:</th>          <td> 0.601</td> <th>  Prob(JB):          </th> <td>   0.748</td>\n",
       "</tr>\n",
       "<tr>\n",
       "  <th>Kurtosis:</th>      <td> 2.260</td> <th>  Cond. No.          </th> <td>    70.0</td>\n",
       "</tr>\n",
       "</table><br/><br/>Notes:<br/>[1] Standard Errors assume that the covariance matrix of the errors is correctly specified."
      ],
      "text/plain": [
       "<class 'statsmodels.iolib.summary.Summary'>\n",
       "\"\"\"\n",
       "                            OLS Regression Results                            \n",
       "==============================================================================\n",
       "Dep. Variable:               time (s)   R-squared:                       0.994\n",
       "Model:                            OLS   Adj. R-squared:                  0.993\n",
       "Method:                 Least Squares   F-statistic:                     881.7\n",
       "Date:                Thu, 09 Dec 2021   Prob (F-statistic):           8.12e-07\n",
       "Time:                        18:03:06   Log-Likelihood:                 1.8560\n",
       "No. Observations:                   7   AIC:                            0.2879\n",
       "Df Residuals:                       5   BIC:                            0.1797\n",
       "Df Model:                           1                                         \n",
       "Covariance Type:            nonrobust                                         \n",
       "==============================================================================\n",
       "                 coef    std err          t      P>|t|      [0.025      0.975]\n",
       "------------------------------------------------------------------------------\n",
       "const        -15.8036      0.587    -26.924      0.000     -17.312     -14.295\n",
       "n              1.7780      0.060     29.693      0.000       1.624       1.932\n",
       "==============================================================================\n",
       "Omnibus:                          nan   Durbin-Watson:                   1.198\n",
       "Prob(Omnibus):                    nan   Jarque-Bera (JB):                0.582\n",
       "Skew:                           0.601   Prob(JB):                        0.748\n",
       "Kurtosis:                       2.260   Cond. No.                         70.0\n",
       "==============================================================================\n",
       "\n",
       "Notes:\n",
       "[1] Standard Errors assume that the covariance matrix of the errors is correctly specified.\n",
       "\"\"\""
      ]
     },
     "execution_count": 14,
     "metadata": {},
     "output_type": "execute_result"
    }
   ],
   "source": [
    "X = sm.add_constant(np.log(df_fit[\"n\"]))\n",
    "y = np.log(df_fit[\"time (s)\"])\n",
    "model = sm.OLS(y, X)\n",
    "results = model.fit()\n",
    "results.summary()"
   ]
  },
  {
   "cell_type": "markdown",
   "id": "f7c67065-4b45-4747-a234-b1ba83d2b557",
   "metadata": {},
   "source": [
    "Predicted time"
   ]
  },
  {
   "cell_type": "code",
   "execution_count": 15,
   "id": "aaa5bbfc-a77e-4d40-b877-79cd7952f5b7",
   "metadata": {},
   "outputs": [
    {
     "data": {
      "text/plain": [
       "16027.401232530488"
      ]
     },
     "execution_count": 15,
     "metadata": {},
     "output_type": "execute_result"
    }
   ],
   "source": [
    "np.exp(results.params.const + results.params.n * np.log(n_original))"
   ]
  }
 ],
 "metadata": {
  "jupytext": {
   "text_representation": {
    "extension": ".py",
    "format_name": "percent",
    "format_version": "1.3",
    "jupytext_version": "1.13.3"
   }
  },
  "kernelspec": {
   "display_name": "all39-defaults",
   "language": "python",
   "name": "all39-defaults"
  },
  "language_info": {
   "codemirror_mode": {
    "name": "ipython",
    "version": 3
   },
   "file_extension": ".py",
   "mimetype": "text/x-python",
   "name": "python",
   "nbconvert_exporter": "python",
   "pygments_lexer": "ipython3",
   "version": "3.9.5"
  }
 },
 "nbformat": 4,
 "nbformat_minor": 5
}
